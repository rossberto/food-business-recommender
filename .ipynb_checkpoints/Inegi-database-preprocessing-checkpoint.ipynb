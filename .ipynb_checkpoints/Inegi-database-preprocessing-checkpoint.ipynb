{
 "cells": [
  {
   "cell_type": "code",
   "execution_count": 1,
   "metadata": {},
   "outputs": [],
   "source": [
    "import requests\n",
    "import pandas as pd\n",
    "import unidecode\n",
    "import json"
   ]
  },
  {
   "cell_type": "markdown",
   "metadata": {},
   "source": [
    "# Exploring the data"
   ]
  },
  {
   "cell_type": "code",
   "execution_count": 2,
   "metadata": {},
   "outputs": [
    {
     "name": "stderr",
     "output_type": "stream",
     "text": [
      "/home/linuxbrew/.linuxbrew/Cellar/jupyterlab/1.2.4/libexec/lib/python3.7/site-packages/IPython/core/interactiveshell.py:3051: DtypeWarning: Columns (34) have mixed types. Specify dtype option on import or set low_memory=False.\n",
      "  interactivity=interactivity, compiler=compiler, result=result)\n"
     ]
    },
    {
     "data": {
      "text/plain": [
       "(177812, 41)"
      ]
     },
     "execution_count": 2,
     "metadata": {},
     "output_type": "execute_result"
    }
   ],
   "source": [
    "inegi = pd.read_csv('./conjunto_de_datos/denue_inegi_72_2.csv', encoding='ISO-8859-1')\n",
    "inegi.shape"
   ]
  },
  {
   "cell_type": "code",
   "execution_count": 3,
   "metadata": {},
   "outputs": [
    {
     "data": {
      "text/plain": [
       "Index(['id', 'nom_estab', 'raz_social', 'codigo_act', 'nombre_act', 'per_ocu',\n",
       "       'tipo_vial', 'nom_vial', 'tipo_v_e_1', 'nom_v_e_1', 'tipo_v_e_2',\n",
       "       'nom_v_e_2', 'tipo_v_e_3', 'nom_v_e_3', 'numero_ext', 'letra_ext',\n",
       "       'edificio', 'edificio_e', 'numero_int', 'letra_int', 'tipo_asent',\n",
       "       'nomb_asent', 'tipoCenCom', 'nom_CenCom', 'num_local', 'cod_postal',\n",
       "       'cve_ent', 'entidad', 'cve_mun', 'municipio', 'cve_loc', 'localidad',\n",
       "       'ageb', 'manzana', 'telefono', 'correoelec', 'www', 'tipoUniEco',\n",
       "       'latitud', 'longitud', 'fecha_alta'],\n",
       "      dtype='object')"
      ]
     },
     "execution_count": 3,
     "metadata": {},
     "output_type": "execute_result"
    }
   ],
   "source": [
    "inegi.columns"
   ]
  },
  {
   "cell_type": "code",
   "execution_count": 4,
   "metadata": {},
   "outputs": [
    {
     "data": {
      "text/plain": [
       "VERACRUZ DE IGNACIO DE LA LLAVE             48459\n",
       "YUCATÁN                                     17180\n",
       "SAN LUIS POTOSÍ                             15655\n",
       "TAMAULIPAS                                  15576\n",
       "SINALOA                                     15321\n",
       "SONORA                                      13198\n",
       "QUERÉTARO                                   12448\n",
       "TABASCO                                     11959\n",
       "QUINTANA ROO                                11275\n",
       "ZACATECAS                                    8474\n",
       "TLAXCALA                                     8267\n",
       "Name: entidad, dtype: int64"
      ]
     },
     "execution_count": 4,
     "metadata": {},
     "output_type": "execute_result"
    }
   ],
   "source": [
    "inegi['entidad'].value_counts()"
   ]
  },
  {
   "cell_type": "markdown",
   "metadata": {},
   "source": [
    "## Basic cleaning, columns selection and data type setup"
   ]
  },
  {
   "cell_type": "markdown",
   "metadata": {},
   "source": [
    "### Filtering duplicates"
   ]
  },
  {
   "cell_type": "code",
   "execution_count": 5,
   "metadata": {},
   "outputs": [
    {
     "data": {
      "text/plain": [
       "(177812, 41)"
      ]
     },
     "execution_count": 5,
     "metadata": {},
     "output_type": "execute_result"
    }
   ],
   "source": [
    "inegi.drop_duplicates(inplace=True)\n",
    "inegi.shape"
   ]
  },
  {
   "cell_type": "markdown",
   "metadata": {},
   "source": [
    "### Filtering unnecessary columns"
   ]
  },
  {
   "cell_type": "code",
   "execution_count": 6,
   "metadata": {},
   "outputs": [
    {
     "data": {
      "text/html": [
       "<div>\n",
       "<style scoped>\n",
       "    .dataframe tbody tr th:only-of-type {\n",
       "        vertical-align: middle;\n",
       "    }\n",
       "\n",
       "    .dataframe tbody tr th {\n",
       "        vertical-align: top;\n",
       "    }\n",
       "\n",
       "    .dataframe thead th {\n",
       "        text-align: right;\n",
       "    }\n",
       "</style>\n",
       "<table border=\"1\" class=\"dataframe\">\n",
       "  <thead>\n",
       "    <tr style=\"text-align: right;\">\n",
       "      <th></th>\n",
       "      <th>nom_estab</th>\n",
       "      <th>nombre_act</th>\n",
       "      <th>per_ocu</th>\n",
       "      <th>entidad</th>\n",
       "      <th>municipio</th>\n",
       "      <th>localidad</th>\n",
       "      <th>www</th>\n",
       "      <th>tipoUniEco</th>\n",
       "      <th>latitud</th>\n",
       "      <th>longitud</th>\n",
       "      <th>fecha_alta</th>\n",
       "    </tr>\n",
       "  </thead>\n",
       "  <tbody>\n",
       "    <tr>\n",
       "      <th>0</th>\n",
       "      <td>ANTOJITOS VICKY</td>\n",
       "      <td>Restaurantes con servicio de preparación de an...</td>\n",
       "      <td>0 a 5 personas</td>\n",
       "      <td>QUERÉTARO</td>\n",
       "      <td>San Juan del Río</td>\n",
       "      <td>San Juan del Río</td>\n",
       "      <td>NaN</td>\n",
       "      <td>Fijo</td>\n",
       "      <td>20.375935</td>\n",
       "      <td>-99.960659</td>\n",
       "      <td>2019-11</td>\n",
       "    </tr>\n",
       "    <tr>\n",
       "      <th>1</th>\n",
       "      <td>ANTOJITOS VICKY</td>\n",
       "      <td>Restaurantes con servicio de preparación de an...</td>\n",
       "      <td>0 a 5 personas</td>\n",
       "      <td>QUERÉTARO</td>\n",
       "      <td>Querétaro</td>\n",
       "      <td>Santiago de Querétaro</td>\n",
       "      <td>NaN</td>\n",
       "      <td>Fijo</td>\n",
       "      <td>20.604599</td>\n",
       "      <td>-100.407414</td>\n",
       "      <td>2014-12</td>\n",
       "    </tr>\n",
       "    <tr>\n",
       "      <th>2</th>\n",
       "      <td>ANTOJITOS VIKI</td>\n",
       "      <td>Restaurantes con servicio de preparación de ta...</td>\n",
       "      <td>11 a 30 personas</td>\n",
       "      <td>QUERÉTARO</td>\n",
       "      <td>Huimilpan</td>\n",
       "      <td>El Vegil</td>\n",
       "      <td>NaN</td>\n",
       "      <td>Fijo</td>\n",
       "      <td>20.430326</td>\n",
       "      <td>-100.349455</td>\n",
       "      <td>2014-12</td>\n",
       "    </tr>\n",
       "    <tr>\n",
       "      <th>3</th>\n",
       "      <td>ANTOJITOS VIKY</td>\n",
       "      <td>Restaurantes con servicio de preparación de an...</td>\n",
       "      <td>0 a 5 personas</td>\n",
       "      <td>QUERÉTARO</td>\n",
       "      <td>Tequisquiapan</td>\n",
       "      <td>Tequisquiapan</td>\n",
       "      <td>NaN</td>\n",
       "      <td>Fijo</td>\n",
       "      <td>20.525991</td>\n",
       "      <td>-99.902751</td>\n",
       "      <td>2010-07</td>\n",
       "    </tr>\n",
       "    <tr>\n",
       "      <th>4</th>\n",
       "      <td>ANTOJITOS VUELVE A LA VIDA</td>\n",
       "      <td>Restaurantes con servicio de preparación de an...</td>\n",
       "      <td>0 a 5 personas</td>\n",
       "      <td>QUERÉTARO</td>\n",
       "      <td>Querétaro</td>\n",
       "      <td>Santiago de Querétaro</td>\n",
       "      <td>NaN</td>\n",
       "      <td>Fijo</td>\n",
       "      <td>20.634093</td>\n",
       "      <td>-100.459866</td>\n",
       "      <td>2019-11</td>\n",
       "    </tr>\n",
       "  </tbody>\n",
       "</table>\n",
       "</div>"
      ],
      "text/plain": [
       "                    nom_estab  \\\n",
       "0             ANTOJITOS VICKY   \n",
       "1             ANTOJITOS VICKY   \n",
       "2              ANTOJITOS VIKI   \n",
       "3              ANTOJITOS VIKY   \n",
       "4  ANTOJITOS VUELVE A LA VIDA   \n",
       "\n",
       "                                          nombre_act           per_ocu  \\\n",
       "0  Restaurantes con servicio de preparación de an...    0 a 5 personas   \n",
       "1  Restaurantes con servicio de preparación de an...    0 a 5 personas   \n",
       "2  Restaurantes con servicio de preparación de ta...  11 a 30 personas   \n",
       "3  Restaurantes con servicio de preparación de an...    0 a 5 personas   \n",
       "4  Restaurantes con servicio de preparación de an...    0 a 5 personas   \n",
       "\n",
       "                                    entidad         municipio  \\\n",
       "0  QUERÉTARO                                 San Juan del Río   \n",
       "1  QUERÉTARO                                        Querétaro   \n",
       "2  QUERÉTARO                                        Huimilpan   \n",
       "3  QUERÉTARO                                    Tequisquiapan   \n",
       "4  QUERÉTARO                                        Querétaro   \n",
       "\n",
       "               localidad  www tipoUniEco    latitud    longitud fecha_alta  \n",
       "0       San Juan del Río  NaN       Fijo  20.375935  -99.960659    2019-11  \n",
       "1  Santiago de Querétaro  NaN       Fijo  20.604599 -100.407414    2014-12  \n",
       "2               El Vegil  NaN       Fijo  20.430326 -100.349455    2014-12  \n",
       "3          Tequisquiapan  NaN       Fijo  20.525991  -99.902751    2010-07  \n",
       "4  Santiago de Querétaro  NaN       Fijo  20.634093 -100.459866    2019-11  "
      ]
     },
     "execution_count": 6,
     "metadata": {},
     "output_type": "execute_result"
    }
   ],
   "source": [
    "columns = ['id', 'raz_social', 'codigo_act', 'nom_vial', 'tipo_v_e_1', 'nom_v_e_1', 'tipo_v_e_2',\n",
    "       'nom_v_e_2', 'tipo_v_e_3', 'nom_v_e_3', 'numero_ext', 'letra_ext', 'nomb_asent',\n",
    "       'edificio', 'edificio_e', 'numero_int', 'letra_int', 'cod_postal', 'num_local',\n",
    "       'cve_ent', 'cve_mun', 'cve_loc', 'ageb', 'manzana', 'telefono', 'correoelec',\n",
    "          'tipo_vial', 'tipo_asent', 'tipoCenCom', 'nom_CenCom']\n",
    "inegi.drop(columns=columns, inplace=True)\n",
    "\n",
    "inegi.head()"
   ]
  },
  {
   "cell_type": "code",
   "execution_count": 7,
   "metadata": {},
   "outputs": [
    {
     "data": {
      "text/plain": [
       "nom_estab      object\n",
       "nombre_act     object\n",
       "per_ocu        object\n",
       "entidad        object\n",
       "municipio      object\n",
       "localidad      object\n",
       "www            object\n",
       "tipoUniEco     object\n",
       "latitud       float64\n",
       "longitud      float64\n",
       "fecha_alta     object\n",
       "dtype: object"
      ]
     },
     "execution_count": 7,
     "metadata": {},
     "output_type": "execute_result"
    }
   ],
   "source": [
    "inegi.dtypes"
   ]
  },
  {
   "cell_type": "code",
   "execution_count": 8,
   "metadata": {},
   "outputs": [
    {
     "data": {
      "text/plain": [
       "0   2019-11-01\n",
       "1   2014-12-01\n",
       "2   2014-12-01\n",
       "3   2010-07-01\n",
       "4   2019-11-01\n",
       "Name: fecha_alta, dtype: datetime64[ns]"
      ]
     },
     "execution_count": 8,
     "metadata": {},
     "output_type": "execute_result"
    }
   ],
   "source": [
    "inegi.fecha_alta = pd.to_datetime(inegi.fecha_alta)\n",
    "inegi.fecha_alta.head()"
   ]
  },
  {
   "cell_type": "code",
   "execution_count": 9,
   "metadata": {},
   "outputs": [
    {
     "data": {
      "text/plain": [
       "Index(['Restaurantes con servicio de preparación de antojitos',\n",
       "       'Restaurantes con servicio de preparación de tacos y tortas',\n",
       "       'Cafeterías, fuentes de sodas, neverías, refresquerías y similares',\n",
       "       'Restaurantes con servicio de preparación de pizzas, hamburguesas, hot dogs y pollos rostizados para llevar',\n",
       "       'Restaurantes con servicio de preparación de alimentos a la carta o de comida corrida',\n",
       "       'Servicios de preparación de otros alimentos para consumo inmediato',\n",
       "       'Restaurantes que preparan otro tipo de alimentos para llevar',\n",
       "       'Bares, cantinas y similares',\n",
       "       'Restaurantes con servicio de preparación de pescados y mariscos',\n",
       "       'Restaurantes de autoservicio',\n",
       "       'Hoteles sin otros servicios integrados',\n",
       "       'Hoteles con otros servicios integrados', 'Moteles',\n",
       "       'Pensiones y casas de huéspedes',\n",
       "       'Servicios de preparación de alimentos en unidades móviles',\n",
       "       'Servicios de preparación de alimentos para ocasiones especiales',\n",
       "       'Centros nocturnos, discotecas y similares',\n",
       "       'Servicios de comedor para empresas e instituciones',\n",
       "       'Departamentos y casas amueblados con servicios de hotelería',\n",
       "       'Cabañas, villas y similares', 'Campamentos y albergues recreativos'],\n",
       "      dtype='object')"
      ]
     },
     "execution_count": 9,
     "metadata": {},
     "output_type": "execute_result"
    }
   ],
   "source": [
    "inegi.nombre_act.value_counts().index"
   ]
  },
  {
   "cell_type": "markdown",
   "metadata": {},
   "source": [
    "### Filtering non-food stands"
   ]
  },
  {
   "cell_type": "markdown",
   "metadata": {},
   "source": [
    "### Setting data types"
   ]
  },
  {
   "cell_type": "code",
   "execution_count": 10,
   "metadata": {},
   "outputs": [
    {
     "data": {
      "text/plain": [
       "nom_estab             object\n",
       "nombre_act            object\n",
       "per_ocu               object\n",
       "entidad               object\n",
       "municipio             object\n",
       "localidad             object\n",
       "www                   object\n",
       "tipoUniEco            object\n",
       "latitud              float64\n",
       "longitud             float64\n",
       "fecha_alta    datetime64[ns]\n",
       "dtype: object"
      ]
     },
     "execution_count": 10,
     "metadata": {},
     "output_type": "execute_result"
    }
   ],
   "source": [
    "inegi.dtypes"
   ]
  },
  {
   "cell_type": "code",
   "execution_count": 11,
   "metadata": {},
   "outputs": [
    {
     "data": {
      "text/plain": [
       "nom_estab             object\n",
       "nombre_act          category\n",
       "per_ocu             category\n",
       "entidad               object\n",
       "municipio             object\n",
       "localidad             object\n",
       "www                   object\n",
       "tipoUniEco          category\n",
       "latitud              float64\n",
       "longitud             float64\n",
       "fecha_alta    datetime64[ns]\n",
       "dtype: object"
      ]
     },
     "execution_count": 11,
     "metadata": {},
     "output_type": "execute_result"
    }
   ],
   "source": [
    "inegi.per_ocu = inegi.per_ocu.astype('category')\n",
    "inegi.tipoUniEco = inegi.tipoUniEco.astype('category')\n",
    "inegi.nombre_act = inegi.nombre_act.astype('category')\n",
    "inegi.dtypes"
   ]
  },
  {
   "cell_type": "markdown",
   "metadata": {},
   "source": [
    "### Filtering non-describing business names"
   ]
  },
  {
   "cell_type": "code",
   "execution_count": 12,
   "metadata": {},
   "outputs": [
    {
     "data": {
      "text/plain": [
       "VENTA DE ANTOJITOS SIN NOMBRE    2370\n",
       "ANTOJITOS SIN NOMBRE             2094\n",
       "CLUB DE NUTRICIÓN HERBALIFE      1435\n",
       "VENTA DE ANTOJITOS               1116\n",
       "COCINA ECONÓMICA SIN NOMBRE      1081\n",
       "                                 ... \n",
       "SALON DE FIESTAS ISABEL             1\n",
       "TORTERIA EL CHE                     1\n",
       "HOTEL ZAMUDIO                       1\n",
       "RESTAURANT ESTRELA DO BRASIL        1\n",
       "PIZZAS HOMEROS                      1\n",
       "Name: nom_estab, Length: 113602, dtype: int64"
      ]
     },
     "execution_count": 12,
     "metadata": {},
     "output_type": "execute_result"
    }
   ],
   "source": [
    "inegi.nom_estab.value_counts()"
   ]
  },
  {
   "cell_type": "code",
   "execution_count": 13,
   "metadata": {},
   "outputs": [],
   "source": [
    "inegi.drop(inegi[inegi['nom_estab'].isnull()].index, inplace=True)"
   ]
  },
  {
   "cell_type": "code",
   "execution_count": 14,
   "metadata": {},
   "outputs": [
    {
     "data": {
      "text/plain": [
       "(177812, 11)"
      ]
     },
     "execution_count": 14,
     "metadata": {},
     "output_type": "execute_result"
    }
   ],
   "source": [
    "inegi.shape"
   ]
  },
  {
   "cell_type": "code",
   "execution_count": 34,
   "metadata": {},
   "outputs": [],
   "source": [
    "inegi.to_csv('inegi.csv', index=False)"
   ]
  }
 ],
 "metadata": {
  "kernelspec": {
   "display_name": "Python 3",
   "language": "python",
   "name": "python3"
  },
  "language_info": {
   "codemirror_mode": {
    "name": "ipython",
    "version": 3
   },
   "file_extension": ".py",
   "mimetype": "text/x-python",
   "name": "python",
   "nbconvert_exporter": "python",
   "pygments_lexer": "ipython3",
   "version": "3.7.6"
  }
 },
 "nbformat": 4,
 "nbformat_minor": 2
}
